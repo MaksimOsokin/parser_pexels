{
 "cells": [
  {
   "cell_type": "code",
   "execution_count": 1,
   "id": "1edc8d2f",
   "metadata": {},
   "outputs": [],
   "source": [
    "import requests\n",
    "import json\n",
    "import os\n",
    "import math\n",
    "\n",
    "from tqdm import tqdm\n",
    "\n",
    "from API_KEY import API_KEY"
   ]
  },
  {
   "cell_type": "code",
   "execution_count": 2,
   "id": "f9451351",
   "metadata": {},
   "outputs": [],
   "source": [
    "def parser_pexels(query=''):\n",
    "\n",
    "    img_dir_path = '_'.join(i for i in query.split(' ') if i.isalnum())\n",
    "    path_Project = 'C://Users//DELL//Desktop//qqq//STOC//Activat//pythonProject//'\n",
    "    headers = {\"Authorization\": API_KEY}\n",
    "    query_str = f'https://api.pexels.com/v1/search?query={query}&per_page=80&orientation=landscape'\n",
    "    response = requests.get(url=query_str,headers=headers)\n",
    "\n",
    "    if response.status_code !=200 :\n",
    "        print(f'Ошибка: Статус кода - {response.status_code}, {response.json()}')\n",
    "\n",
    "    if not os.path.exists(f'{path_Project}imd_dir_path//{img_dir_path}'):\n",
    "        os.makedirs(f'{path_Project}imd_dir_path//{img_dir_path}', exist_ok=True) \n",
    "\n",
    "    json_data = response.json()\n",
    "\n",
    "    # with open(f'{path_Project}imd_dir_path//{query}.json', 'w') as file:\n",
    "    #     json.dump(json_data, file, indent=4, ensure_ascii=False)\n",
    "\n",
    "    images_count = json_data.get('total_results')\n",
    "\n",
    "    if not json_data.get('next_page'):         \n",
    "        img_urls = [item.get('src').get('original') for item in json_data.get('photos')]\n",
    "\n",
    "        print(f'[INFO] Всего изображений: {images_count}. Сохранение может занять какое-то время.')\n",
    "\n",
    "        for img_url in tqdm(img_urls) :\n",
    "\n",
    "            response = requests.get(url=img_url)\n",
    "\n",
    "            if response.status_code == 200:   \n",
    "\n",
    "                 with open(f'{path_Project}{img_dir_path+img_url.split(\"-\")[-1]}', 'wb') as f: \n",
    "                    f.write(response.content)\n",
    "                    f.close()\n",
    "                    os.rename(f'{path_Project}{img_dir_path+img_url.split(\"-\")[-1]}',\n",
    "                              f'{path_Project}imd_dir_path//{img_dir_path}//{img_dir_path+img_url.split(\"-\")[-1]}' )\n",
    "            else:\n",
    "                print('Что то пошло не так при скачивании изображения !')\n",
    "\n",
    "\n",
    "    else:\n",
    "\n",
    "        print(f'[INFO] Всего изображений: {images_count}. Сохранение может занять какое-то время.')\n",
    "\n",
    "        images_list_urls = []\n",
    "        for page in range(1, math.ceil(images_count/80)+1):\n",
    "            query_str = f'{query_str}&page={page}'\n",
    "            response = requests.get(url=query_str, headers=headers)\n",
    "            json_data = response.json()\n",
    "\n",
    "            img_urls = [item.get('src').get('original') for item in json_data.get('photos')]\n",
    "\n",
    "            for img_url in tqdm(img_urls) :\n",
    "                response = requests.get(url=img_url)\n",
    "\n",
    "                if response.status_code == 200:\n",
    "\n",
    "                    with open(f'{path_Project}{img_dir_path+img_url.split(\"-\")[-1]}', 'wb') as f: \n",
    "                        f.write(response.content)\n",
    "                        f.close()\n",
    "                        os.rename(f'{path_Project}{img_dir_path+img_url.split(\"-\")[-1]}',\n",
    "                                  f'{path_Project}imd_dir_path//{img_dir_path}//{img_dir_path+img_url.split(\"-\")[-1]}' )\n",
    "\n",
    "                else:\n",
    "                    print('Что то пошло не так при скачивании изображения !')\n"
   ]
  },
  {
   "cell_type": "code",
   "execution_count": 3,
   "id": "6c395271",
   "metadata": {},
   "outputs": [],
   "source": [
    "def main():\n",
    "    query = input('Введите ключевую фразу для поиска:')\n",
    "    parser_pexels(query=query)"
   ]
  },
  {
   "cell_type": "code",
   "execution_count": 5,
   "id": "563c58ed",
   "metadata": {},
   "outputs": [
    {
     "name": "stdout",
     "output_type": "stream",
     "text": [
      "Введите ключевую фразу для поиска:кошка\n",
      "[INFO] Всего изображений: 4. Сохранение может занять какое-то время.\n"
     ]
    },
    {
     "name": "stderr",
     "output_type": "stream",
     "text": [
      "100%|████████████████████████████████████████████████████████████████████████████████████| 4/4 [00:06<00:00,  1.50s/it]\n"
     ]
    }
   ],
   "source": [
    "if __name__=='__main__':\n",
    "    main()\n",
    "\n"
   ]
  },
  {
   "cell_type": "code",
   "execution_count": null,
   "id": "611af732",
   "metadata": {},
   "outputs": [],
   "source": []
  }
 ],
 "metadata": {
  "kernelspec": {
   "display_name": "Python 3 (ipykernel)",
   "language": "python",
   "name": "python3"
  },
  "language_info": {
   "codemirror_mode": {
    "name": "ipython",
    "version": 3
   },
   "file_extension": ".py",
   "mimetype": "text/x-python",
   "name": "python",
   "nbconvert_exporter": "python",
   "pygments_lexer": "ipython3",
   "version": "3.9.16"
  }
 },
 "nbformat": 4,
 "nbformat_minor": 5
}
